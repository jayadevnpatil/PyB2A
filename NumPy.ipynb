{
 "cells": [
  {
   "cell_type": "markdown",
   "id": "e04132f9",
   "metadata": {},
   "source": [
    "# NumPy\n",
    "\n",
    "> why you would want to use arrays instead of lists\n",
    "\n",
    "NumPy's arrays are more compact than Python lists -- a list of lists as you describe, in Python, would take at least 20 MB or so, while a NumPy 3D array with single-precision floats in the cells would fit in 4 MB. Access in reading and writing items is also faster with NumPy.\n",
    "\n",
    "Maybe you don't care that much for just a million cells, but you definitely would for a billion cells -- neither approach would fit in a 32-bit architecture, but with 64-bit builds NumPy would get away with 4 GB or so, Python alone would need at least about 12 GB (lots of pointers which double in size) -- a much costlier piece of hardware!\n",
    "\n",
    "The difference is mostly due to \"indirectness\" -- a Python list is an array of pointers to Python objects, at least 4 bytes per pointer plus 16 bytes for even the smallest Python object (4 for type pointer, 4 for reference count, 4 for value -- and the memory allocators rounds up to 16). A NumPy array is an array of uniform values -- single-precision numbers takes 4 bytes each, double-precision ones, 8 bytes. Less flexible, but you pay substantially for the flexibility of standard Python lists!"
   ]
  },
  {
   "cell_type": "markdown",
   "id": "ccb4642f",
   "metadata": {},
   "source": [
    ">conda install numpy\n",
    "\n",
    "We'll cover only basics : apects of numpy as in vectors, arrays, matrices and number generation."
   ]
  },
  {
   "cell_type": "code",
   "execution_count": null,
   "id": "6b3221eb",
   "metadata": {},
   "outputs": [],
   "source": [
    "import numpy as np"
   ]
  },
  {
   "cell_type": "markdown",
   "id": "4ebe0a0b",
   "metadata": {},
   "source": [
    "### From a Python List"
   ]
  },
  {
   "cell_type": "code",
   "execution_count": null,
   "id": "9d0c7c1f",
   "metadata": {},
   "outputs": [],
   "source": [
    "np.array(my_list)\n",
    "np.array(my_matrix)"
   ]
  },
  {
   "cell_type": "markdown",
   "id": "545c66c4",
   "metadata": {},
   "source": [
    "### Built-in Methods"
   ]
  },
  {
   "cell_type": "code",
   "execution_count": null,
   "id": "cf14dcec",
   "metadata": {},
   "outputs": [],
   "source": [
    "np.arange(start,end)\n",
    "np.arange(start,end,increment)"
   ]
  },
  {
   "cell_type": "code",
   "execution_count": null,
   "id": "312429e2",
   "metadata": {},
   "outputs": [],
   "source": [
    "np.zeros(n)\n",
    "np.zeros((n,m)) # tuple or list\n",
    "\n",
    "np.ones(n)\n",
    "np.ones((n,m))"
   ]
  },
  {
   "cell_type": "code",
   "execution_count": null,
   "id": "57b3135e",
   "metadata": {},
   "outputs": [],
   "source": [
    "np.linspace(start,end,interval) # end - inclusive"
   ]
  },
  {
   "cell_type": "code",
   "execution_count": null,
   "id": "b38b4ee5",
   "metadata": {},
   "outputs": [],
   "source": [
    "np.eye(n) # n*n identity matrix"
   ]
  },
  {
   "cell_type": "code",
   "execution_count": null,
   "id": "0bff6e6c",
   "metadata": {},
   "outputs": [],
   "source": [
    "np.random.rand(n)# from uniform distribution\n",
    "np.random.rand(m,n)\n",
    "\n",
    "np.random.randn(n)# from normal distribution\n",
    "np.random.randn(m,n)\n",
    "\n",
    "np.random.randint(low,high)#  low (inclusive) to high (exclusive)\n",
    "np.random.randint(low,high,n)\n",
    "\n",
    "np.random.seed(42)"
   ]
  },
  {
   "cell_type": "code",
   "execution_count": null,
   "id": "0c3765b9",
   "metadata": {},
   "outputs": [],
   "source": [
    "my_arr.dtype\n",
    "my_arr.shape\n",
    "my_arr.reshape(n,m)\n",
    "\n",
    "my_arr.max()\n",
    "my_arr.argmax()\n",
    "\n",
    "my_arr.min()\n",
    "my_arr.argmin()"
   ]
  },
  {
   "cell_type": "markdown",
   "id": "494c2818",
   "metadata": {},
   "source": [
    "###  Bracket Indexing and Selection"
   ]
  },
  {
   "cell_type": "code",
   "execution_count": null,
   "id": "c90102cd",
   "metadata": {},
   "outputs": [],
   "source": [
    "# arr is numpy array\n",
    "arr[n]                #Get a value at an index\n",
    "arr[0:5]              #Get values in a range\n",
    "arr[0:5]=100          #Setting a value with index range (Broadcasting)\n",
    "arr_copy = arr.copy() #To get a copy, need to be explicit\n",
    "arr_2d                # Format is arr_2d[row][col] or arr_2d[row,col]\n",
    "arr_2d[:2,1:]         #Shape (2,2) from top right corner\n"
   ]
  },
  {
   "cell_type": "markdown",
   "id": "e6a20333",
   "metadata": {},
   "source": [
    "### Conditional Selection"
   ]
  },
  {
   "cell_type": "code",
   "execution_count": null,
   "id": "fceeb3ce",
   "metadata": {},
   "outputs": [],
   "source": [
    "bool_arr = arr>4  # returns boolean value at index\n",
    "arr[bool_arr]     # considers at TRUE"
   ]
  },
  {
   "cell_type": "markdown",
   "id": "16da9eca",
   "metadata": {},
   "source": [
    "### Arithmetic\n"
   ]
  },
  {
   "cell_type": "code",
   "execution_count": null,
   "id": "9f144292",
   "metadata": {},
   "outputs": [],
   "source": [
    "arr + arr\n",
    "arr * arr\n",
    "arr - arr\n",
    "arr / arr # raise an error when divided by zero\n",
    "1 / arr\n",
    "arr**3"
   ]
  },
  {
   "cell_type": "markdown",
   "id": "d6edb722",
   "metadata": {},
   "source": [
    "### Universal Array Functions"
   ]
  },
  {
   "cell_type": "code",
   "execution_count": null,
   "id": "afce54c0",
   "metadata": {},
   "outputs": [],
   "source": [
    "np.sqrt(arr)\n",
    "np.exp(arr)\n",
    "np.sin(arr)\n",
    "np.log(arr)"
   ]
  },
  {
   "cell_type": "markdown",
   "id": "6a7fd614",
   "metadata": {},
   "source": [
    "### Summary Statistics on Arrays"
   ]
  },
  {
   "cell_type": "code",
   "execution_count": null,
   "id": "446c934b",
   "metadata": {},
   "outputs": [],
   "source": [
    "arr.sum()\n",
    "arr.mean()\n",
    "\n",
    "arr.max()\n",
    "arr.min()\n",
    "\n",
    "arr.var()\n",
    "arr.std()"
   ]
  },
  {
   "attachments": {
    "axis_logic.png": {
     "image/png": "[encoded data removed]"
    }
   },
   "cell_type": "markdown",
   "id": "69080879",
   "metadata": {},
   "source": [
    "### Axis Logic\n",
    "![axis_logic.png](attachment:axis_logic.png)"
   ]
  },
  {
   "cell_type": "code",
   "execution_count": null,
   "id": "e814d802",
   "metadata": {},
   "outputs": [],
   "source": [
    "arr_2d\n",
    "arr_2d.shape\n",
    "arr_2d.sum(axis=0) # vertical axis - along rows\n",
    "arr_2d.sum(axis=1) # horizontal axis - along columns"
   ]
  }
 ],
 "metadata": {
  "kernelspec": {
   "display_name": "Python 3 (ipykernel)",
   "language": "python",
   "name": "python3"
  },
  "language_info": {
   "codemirror_mode": {
    "name": "ipython",
    "version": 3
   },
   "file_extension": ".py",
   "mimetype": "text/x-python",
   "name": "python",
   "nbconvert_exporter": "python",
   "pygments_lexer": "ipython3",
   "version": "3.7.3"
  }
 },
 "nbformat": 4,
 "nbformat_minor": 5
}
